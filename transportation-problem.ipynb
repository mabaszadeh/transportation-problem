{
 "cells": [
  {
   "cell_type": "code",
   "execution_count": null,
   "source": [
    "from itertools import permutations\r\n",
    "from sys import maxsize\r\n",
    "import numpy as np\r\n",
    "from random import randrange\r\n",
    "\r\n",
    "from inputs.in1 import *"
   ],
   "outputs": [],
   "metadata": {}
  },
  {
   "cell_type": "code",
   "execution_count": null,
   "source": [
    "cost = np.array(cost)"
   ],
   "outputs": [],
   "metadata": {}
  },
  {
   "cell_type": "markdown",
   "source": [
    "North West Corner is an Algorithm for calculating basic feasible solution\r\n",
    "\r\n",
    "[Read more...](https://geekrodion.com/blog/operations/corner)"
   ],
   "metadata": {}
  },
  {
   "cell_type": "code",
   "execution_count": null,
   "source": [
    "def north_west_corner(src, des):\r\n",
    "    supply = list(map(supplies.get, src))\r\n",
    "    demand = list(map(demands.get, des))\r\n",
    "\r\n",
    "    i, j, fs = 0, 0, []\r\n",
    "\r\n",
    "    while supply[len(supply) - 1] != 0:\r\n",
    "        s, d = supply[i], demand[j]\r\n",
    "        v = min(s, d)\r\n",
    "        fs.append([[src[i], des[j]], v])\r\n",
    "\r\n",
    "        supply[i] -= v\r\n",
    "        demand[j] -= v\r\n",
    "\r\n",
    "        if supply[i] == 0 and i < len(supply) - 1:\r\n",
    "            i += 1\r\n",
    "        if demand[j] == 0 and j < len(demand) - 1:\r\n",
    "            j += 1\r\n",
    "\r\n",
    "    return fs"
   ],
   "outputs": [],
   "metadata": {}
  },
  {
   "cell_type": "code",
   "execution_count": null,
   "source": [
    "def fitness(sol, cost):\r\n",
    "    return np.sum(np.multiply(cost, sol))"
   ],
   "outputs": [],
   "metadata": {}
  },
  {
   "cell_type": "code",
   "execution_count": null,
   "source": [
    "population = np.empty((0, 2), dtype=int)\r\n",
    "optimal_solution = None\r\n",
    "minimum_cost = maxsize\r\n",
    "\r\n",
    "sources = list(supplies.keys())\r\n",
    "destinations = list(demands.keys())\r\n",
    "sol_list = set()\r\n",
    "counter = 0"
   ],
   "outputs": [],
   "metadata": {}
  },
  {
   "cell_type": "markdown",
   "source": [
    "Creating initial population by generating permutations of supplies & demands and then running north west corner on them.\r\n",
    "\r\n",
    "(some of solutions are duplicate, so we ignore them and don't add them to initial population)"
   ],
   "metadata": {}
  },
  {
   "cell_type": "code",
   "execution_count": null,
   "source": [
    "for i in permutations(supplies):\r\n",
    "    for j in permutations(demands):\r\n",
    "\r\n",
    "        feasible_solution = north_west_corner(i, j)\r\n",
    "\r\n",
    "        solution = np.zeros([len(supplies), len(demands)], dtype=int)\r\n",
    "\r\n",
    "        for k in feasible_solution:\r\n",
    "            solution[sources.index(k[0][0]),\r\n",
    "                     destinations.index(k[0][1])] = k[1]\r\n",
    "\r\n",
    "        if np.array_str(solution) not in sol_list:\r\n",
    "            sol_list.add(np.array_str(solution))\r\n",
    "\r\n",
    "            ft = fitness(solution, cost)\r\n",
    "            if ft < minimum_cost:\r\n",
    "                optimal_solution = solution\r\n",
    "                minimum_cost = ft\r\n",
    "\r\n",
    "            population = np.vstack([population, [solution, ft]])\r\n",
    "\r\n",
    "        counter += 1\r\n",
    "        if counter == MAX_POPULATION:\r\n",
    "            break\r\n",
    "\r\n",
    "    if counter == MAX_POPULATION:\r\n",
    "        break"
   ],
   "outputs": [],
   "metadata": {}
  },
  {
   "cell_type": "code",
   "execution_count": null,
   "source": [
    "# Results before applying GA\r\n",
    "\r\n",
    "print(\"Minimum cost:\", minimum_cost, end=\"\\n\" * 2)\r\n",
    "print(\"Optimal solution:\")\r\n",
    "print(optimal_solution)"
   ],
   "outputs": [],
   "metadata": {}
  },
  {
   "cell_type": "code",
   "execution_count": null,
   "source": [
    "# lets free some memory ;)\r\n",
    "del sol_list, sources, destinations"
   ],
   "outputs": [],
   "metadata": {}
  },
  {
   "cell_type": "markdown",
   "source": [
    "Parent Selection: Random Selection"
   ],
   "metadata": {}
  },
  {
   "cell_type": "code",
   "execution_count": null,
   "source": [
    "def selection():\r\n",
    "    global population\r\n",
    "\r\n",
    "    population = population[np.argsort(population[:, 1])]\r\n",
    "\r\n",
    "    # Truncation\r\n",
    "    population = population[:MAX_POPULATION]\r\n",
    "\r\n",
    "    # Parent Selection: Random Selection\r\n",
    "    np.random.shuffle(population)"
   ],
   "outputs": [],
   "metadata": {}
  },
  {
   "cell_type": "code",
   "execution_count": null,
   "source": [
    "def solution_repair(sol, demand):\r\n",
    "\r\n",
    "    des_num = len(sol[0])\r\n",
    "    offset = [0] * des_num\r\n",
    "\r\n",
    "    tmp = np.sum(sol, axis=0)\r\n",
    "    for i in range(des_num):\r\n",
    "        offset[i] = tmp[i] - demand[i]\r\n",
    "\r\n",
    "    for i in range(des_num):\r\n",
    "        if offset[i] < 0:\r\n",
    "\r\n",
    "            need = True\r\n",
    "            j = 0\r\n",
    "\r\n",
    "            while need and (j < des_num):\r\n",
    "                if offset[j] > 0:\r\n",
    "\r\n",
    "                    k = 0\r\n",
    "                    has_extra = True\r\n",
    "\r\n",
    "                    while k < len(sol) and has_extra:\r\n",
    "\r\n",
    "                        val = min(offset[j], sol[k][j], abs(offset[i]))\r\n",
    "\r\n",
    "                        sol[k][j] -= val\r\n",
    "                        sol[k][i] += val\r\n",
    "\r\n",
    "                        offset[i] += val\r\n",
    "                        offset[j] -= val\r\n",
    "\r\n",
    "                        if offset[j] == 0:\r\n",
    "                            has_extra = False\r\n",
    "                        if offset[i] == 0:\r\n",
    "                            need = False\r\n",
    "\r\n",
    "                        k += 1\r\n",
    "\r\n",
    "                j += 1"
   ],
   "outputs": [],
   "metadata": {}
  },
  {
   "cell_type": "code",
   "execution_count": null,
   "source": [
    "def crossover():\r\n",
    "    global optimal_solution, minimum_cost, population\r\n",
    "\r\n",
    "    pool = np.empty((0, 2), dtype=int)\r\n",
    "\r\n",
    "    if len(population) % 2 == 1:\r\n",
    "        num = len(population) - 1\r\n",
    "    else:\r\n",
    "        num = len(population)\r\n",
    "\r\n",
    "    for i in range(0, num, 2):\r\n",
    "        if np.random.rand() <= CROSSOVER_RATE:\r\n",
    "\r\n",
    "            child1 = population[i][0].copy()\r\n",
    "            child2 = population[i+1][0].copy()\r\n",
    "\r\n",
    "            comparison = (child1 == child2)\r\n",
    "            if comparison.all():\r\n",
    "                continue\r\n",
    "\r\n",
    "            demand = np.sum(child1, axis=0)\r\n",
    "\r\n",
    "            crossover_row = randrange(len(child1))\r\n",
    "\r\n",
    "            t1 = child1[crossover_row].copy()\r\n",
    "            t2 = child2[crossover_row].copy()\r\n",
    "            child1[crossover_row] = t2\r\n",
    "            child2[crossover_row] = t1\r\n",
    "\r\n",
    "            solution_repair(child1, demand)\r\n",
    "            solution_repair(child2, demand)\r\n",
    "\r\n",
    "            ft = fitness(child1, cost)\r\n",
    "            if ft < minimum_cost:\r\n",
    "                optimal_solution = child1\r\n",
    "                minimum_cost = ft\r\n",
    "\r\n",
    "            pool = np.vstack([pool, [child1, ft]])\r\n",
    "\r\n",
    "            ft = fitness(child2, cost)\r\n",
    "            if ft < minimum_cost:\r\n",
    "                optimal_solution = child2\r\n",
    "                minimum_cost = ft\r\n",
    "\r\n",
    "            pool = np.vstack([pool, [child2, ft]])\r\n",
    "\r\n",
    "    population = np.vstack([population, pool])"
   ],
   "outputs": [],
   "metadata": {}
  },
  {
   "cell_type": "markdown",
   "source": [
    "Random submatrixs are generated for mutation."
   ],
   "metadata": {}
  },
  {
   "cell_type": "code",
   "execution_count": null,
   "source": [
    "def random_submatrix(mtx):\r\n",
    "    tmp = mtx[len(mtx)-1:]\r\n",
    "\r\n",
    "    i, j = np.where(tmp != 0)\r\n",
    "\r\n",
    "    ti = randrange(len(i))\r\n",
    "\r\n",
    "    SE = (i[ti] + 1, j[ti])\r\n",
    "\r\n",
    "    # because randrange(0) is false\r\n",
    "    if SE[1] == 0:\r\n",
    "        NW = (randrange(SE[0]), 0)\r\n",
    "    else:\r\n",
    "        NW = (randrange(SE[0]), randrange(SE[1]))\r\n",
    "\r\n",
    "    NE = (NW[0], SE[1])\r\n",
    "    SW = (SE[0], NW[1])\r\n",
    "\r\n",
    "    return NW, NE, SW, SE"
   ],
   "outputs": [],
   "metadata": {}
  },
  {
   "cell_type": "code",
   "execution_count": null,
   "source": [
    "def mutation():\r\n",
    "    global optimal_solution, minimum_cost, population\r\n",
    "\r\n",
    "    pool = np.empty((0, 2), dtype=int)\r\n",
    "\r\n",
    "    for i in range(0, len(population)):\r\n",
    "        if np.random.rand() <= MUTATION_RATE:\r\n",
    "\r\n",
    "            solution = population[i][0].copy()\r\n",
    "\r\n",
    "            NW, NE, SW, SE = random_submatrix(solution)\r\n",
    "\r\n",
    "            val = min(solution[NW[0]][NW[1]], solution[SE[0]][SE[1]])\r\n",
    "\r\n",
    "            solution[NW[0]][NW[1]] -= val\r\n",
    "            solution[SE[0]][SE[1]] -= val\r\n",
    "            solution[NE[0]][NE[1]] += val\r\n",
    "            solution[SW[0]][SW[1]] += val\r\n",
    "\r\n",
    "            ft = fitness(solution, cost)\r\n",
    "            if ft < minimum_cost:\r\n",
    "                optimal_solution = solution\r\n",
    "                minimum_cost = ft\r\n",
    "\r\n",
    "            pool = np.vstack([pool, [solution, ft]])\r\n",
    "\r\n",
    "    population = np.vstack([population, pool])"
   ],
   "outputs": [],
   "metadata": {}
  },
  {
   "cell_type": "markdown",
   "source": [
    "Running genetic algorithm."
   ],
   "metadata": {}
  },
  {
   "cell_type": "code",
   "execution_count": null,
   "source": [
    "for i in range(ITERATION_NUM):\r\n",
    "    selection()\r\n",
    "    crossover()\r\n",
    "    mutation()"
   ],
   "outputs": [],
   "metadata": {}
  },
  {
   "cell_type": "code",
   "execution_count": null,
   "source": [
    "# Results after applying GA\r\n",
    "\r\n",
    "print(\"Minimum cost:\", minimum_cost, end=\"\\n\" * 2)\r\n",
    "print(\"Optimal solution:\")\r\n",
    "print(optimal_solution)"
   ],
   "outputs": [],
   "metadata": {}
  }
 ],
 "metadata": {
  "kernelspec": {
   "name": "python3",
   "display_name": "Python 3.8.1 64-bit"
  },
  "language_info": {
   "codemirror_mode": {
    "name": "ipython",
    "version": 3
   },
   "file_extension": ".py",
   "mimetype": "text/x-python",
   "name": "python",
   "nbconvert_exporter": "python",
   "pygments_lexer": "ipython3",
   "version": "3.8.1"
  },
  "interpreter": {
   "hash": "1baa965d5efe3ac65b79dfc60c0d706280b1da80fedb7760faf2759126c4f253"
  }
 },
 "nbformat": 4,
 "nbformat_minor": 2
}